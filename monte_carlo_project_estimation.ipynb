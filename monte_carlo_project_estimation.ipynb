{
 "cells": [
  {
   "cell_type": "markdown",
   "metadata": {},
   "source": [
    "### Risk in Project Planning\n",
    "\n",
    "This notebook demonstrates how to model risk in project planning. Two primary sources of risk are:\n",
    "- Time\n",
    "- Cost\n",
    "\n",
    "We'll focus on time as the project costing is dependent on the time it takes for completion.\n",
    "\n",
    "The major risk in planning for project completion time are incorrect projections. Underestimating project duration can result in not only potential penalties but additional costs. On the otherhand over estimating project time could cost winning a project bid to start with!\n",
    "\n",
    "Good knowledge of the project requirements, complexities and boundaries are required for a good projection (this is a worth an article on it's own). In the real world, it's difficult to anticipate every contingency, and even the best project planning will include some over- or underestimates.\n",
    "It's common in project planning to produce multiple estimates for project completion time. Estimating best-case, worst-case, and expected estimates gives you a range of completion times tries to take into account the risk of unanticipated factors.\n",
    "\n",
    "Though with practice and simple analytical techniques you can generally construct a reasonable estimate for project completion time."
   ]
  },
  {
   "cell_type": "code",
   "execution_count": 47,
   "metadata": {},
   "outputs": [],
   "source": [
    "import numpy as np\n",
    "import matplotlib.pyplot as plt\n",
    "import pandas as pd\n",
    "from scipy import stats as stats\n",
    "%matplotlib inline"
   ]
  },
  {
   "cell_type": "code",
   "execution_count": 78,
   "metadata": {},
   "outputs": [
    {
     "data": {
      "text/html": [
       "<div>\n",
       "<style scoped>\n",
       "    .dataframe tbody tr th:only-of-type {\n",
       "        vertical-align: middle;\n",
       "    }\n",
       "\n",
       "    .dataframe tbody tr th {\n",
       "        vertical-align: top;\n",
       "    }\n",
       "\n",
       "    .dataframe thead th {\n",
       "        text-align: right;\n",
       "    }\n",
       "</style>\n",
       "<table border=\"1\" class=\"dataframe\">\n",
       "  <thead>\n",
       "    <tr style=\"text-align: right;\">\n",
       "      <th></th>\n",
       "      <th>Task</th>\n",
       "      <th>Best Guess</th>\n",
       "      <th>Expected</th>\n",
       "      <th>Worst Guess</th>\n",
       "    </tr>\n",
       "  </thead>\n",
       "  <tbody>\n",
       "    <tr>\n",
       "      <th>0</th>\n",
       "      <td>Task A</td>\n",
       "      <td>10</td>\n",
       "      <td>20</td>\n",
       "      <td>25</td>\n",
       "    </tr>\n",
       "    <tr>\n",
       "      <th>1</th>\n",
       "      <td>Task B</td>\n",
       "      <td>2</td>\n",
       "      <td>20</td>\n",
       "      <td>30</td>\n",
       "    </tr>\n",
       "    <tr>\n",
       "      <th>2</th>\n",
       "      <td>Task C</td>\n",
       "      <td>5</td>\n",
       "      <td>20</td>\n",
       "      <td>40</td>\n",
       "    </tr>\n",
       "  </tbody>\n",
       "</table>\n",
       "</div>"
      ],
      "text/plain": [
       "     Task  Best Guess  Expected  Worst Guess\n",
       "0  Task A          10        20           25\n",
       "1  Task B           2        20           30\n",
       "2  Task C           5        20           40"
      ]
     },
     "execution_count": 78,
     "metadata": {},
     "output_type": "execute_result"
    }
   ],
   "source": [
    "task = ['Task A', 'Task B', 'Task C']\n",
    "best = [10, 2, 5]\n",
    "expected =[20, 20, 20]\n",
    "worst = [25, 30, 40]\n",
    "df = pd.DataFrame()\n",
    "df['Task'] = task\n",
    "df['Best Guess'] = best\n",
    "df['Expected'] = expected\n",
    "df['Worst Guess'] = worst\n",
    "df"
   ]
  },
  {
   "cell_type": "markdown",
   "metadata": {},
   "source": [
    "#### The Basic Project Plan\n",
    "Consider a simple project plan (in the table above) with three tasks that can't be parallelized i.e. they need to be performed one after the other. Each of the tasks has a*:\n",
    " - Best Guess: The minimum number of days it takes to complete the task.\n",
    " - Expected: The 'on average' number of days it takes to complete the task.\n",
    " - Worst Guess: The maximum number of days it takes to complete the task.\n",
    "\n",
    "You obtain these estimates from whomever is going to be executing these tasks*."
   ]
  },
  {
   "cell_type": "markdown",
   "metadata": {},
   "source": [
    "#### A First Pass on Estimating the Lifespan of the Project\n",
    "One approach to estimate the lifespan of the project is to sum up the best, expected and worst guesses of time required independently:\n",
    " - Best Guess Total: 22 days\n",
    " - Expected: 60 days\n",
    " - Worst Guess: 95 days\n",
    " \n",
    "The average project planners would pat themselves on the back and have a beer. On average the average planners are wrong all the time"
   ]
  },
  {
   "cell_type": "markdown",
   "metadata": {},
   "source": [
    "#### Being Better than Average with Monte Carlo Simulation!\n",
    "Imagine being able to perform this project in multiple parallel universes and collect the time it takes to complete these project then go back in time with this knowledge? You'd now have a better idea of how long the tasks takes? You would be able learn from your data, the minimum, average and maximum time the project might take.\n",
    "Monte Carlo simulation is the next best thing!"
   ]
  },
  {
   "cell_type": "markdown",
   "metadata": {},
   "source": [
    "#### Focussing on One Task - Task B \n",
    "Note: One can only focus on one thing at a time, else it would not be called 'focussing'.\n",
    "\n",
    "Lets focus on Task be where it the lowest time estimate is 2 days, the expected is 20 days and the worst case scenario is it takes 30 days.\n",
    "We will now 'simulate' the number of days this project is supposed to take. Here this is achieved using a random number generator from a triangular distribution (one could also use a PERT distribution from the beta distribution family). "
   ]
  },
  {
   "cell_type": "code",
   "execution_count": 79,
   "metadata": {},
   "outputs": [
    {
     "data": {
      "text/plain": [
       "<matplotlib.text.Text at 0x125f08278>"
      ]
     },
     "execution_count": 79,
     "metadata": {},
     "output_type": "execute_result"
    },
    {
     "data": {
      "image/png": "[encoded data removed]",
      "text/plain": [
       "<matplotlib.figure.Figure at 0x125b1f550>"
      ]
     },
     "metadata": {},
     "output_type": "display_data"
    }
   ],
   "source": [
    "number_of_simulations = 100000 # number of simulations to run\n",
    "task_B = np.random.triangular(2, 20, 30, number_of_simulations) # generate number of days required for task B\n",
    "n_bins = int(np.max(task_B) - np.min(task_B))\n",
    "tmp = plt.hist(task_B, bins = n_bins)\n",
    "plt.xlabel('Number of days to complete task B')\n",
    "plt.ylabel('Counts of sample from simulation')"
   ]
  },
  {
   "cell_type": "markdown",
   "metadata": {},
   "source": [
    "The histogram above shows the result of simulating the time taken to complete task B. Where simulating is achieved by drawing out random numbers from the triangular distribution. Think of it as each draw is from a parallel universe!"
   ]
  },
  {
   "cell_type": "code",
   "execution_count": 87,
   "metadata": {},
   "outputs": [
    {
     "name": "stdout",
     "output_type": "stream",
     "text": [
      "Simulated minimum number of days to complete task B: 2.081292343109545\n",
      "Simulated average number of days to complete task B: 17.349738904852828\n",
      "Simulated maximum number of days to complete task B: 29.88365546454595\n"
     ]
    }
   ],
   "source": [
    "print('Simulated minimum number of days to complete task B: ' + str(np.min(task_B)))\n",
    "print('Simulated average number of days to complete task B: ' + str(np.mean(task_B)))\n",
    "print('Simulated maximum number of days to complete task B: ' + str(np.max(task_B)))"
   ]
  },
  {
   "cell_type": "markdown",
   "metadata": {},
   "source": [
    "#### The Triangular Distribution has a Skew - It's not Symmetrical\n",
    "As the estimation for the task is not symmetric, at best it takes 2 days on average and at worse it takes 20 and 30 day. The distribution is skewed towards the right, emphasizing that the task is more likely to take a longer time as opposed to a shorter time. This property is shown below with a symmetric normal curve fitted to the simulated data. "
   ]
  },
  {
   "cell_type": "code",
   "execution_count": 89,
   "metadata": {},
   "outputs": [
    {
     "data": {
      "text/plain": [
       "<matplotlib.text.Text at 0x125891828>"
      ]
     },
     "execution_count": 89,
     "metadata": {},
     "output_type": "execute_result"
    },
    {
     "data": {
      "image/png": "[encoded data removed]",
      "text/plain": [
       "<matplotlib.figure.Figure at 0x1248d8cf8>"
      ]
     },
     "metadata": {},
     "output_type": "display_data"
    }
   ],
   "source": [
    "h = sorted(task_B)\n",
    "n_bins = int(np.max(task_B) - np.min(task_B))\n",
    "fit = stats.norm.pdf(h, np.mean(h), np.std(h))  #this is a fitting indeed\n",
    "tmp = plt.plot(h,fit,'-')\n",
    "tmp = plt.hist(task_B, bins = n_bins, normed = True)\n",
    "plt.xlabel('Number of days to complete task B')"
   ]
  },
  {
   "cell_type": "markdown",
   "metadata": {},
   "source": [
    "#### Conclusions from Simulating a Single Task\n",
    "So far:\n",
    "1. We have simulated a task where the results show that at best can be completed in 2 days, at worse in 30 days and on average in 17 days (not 20 as first estimated).\n",
    "2. The simulated result is skewed to the right, supporting the estimate that it will tend to take longer than shorter on average, i.e. the effort in days not normally distributed."
   ]
  },
  {
   "cell_type": "markdown",
   "metadata": {},
   "source": [
    "#### How About Simulating all the Tasks Independently and Adding the Time Required?\n",
    "In order to estimate the project as a whole we'll now simulate all the tasks and sum the time required. This will give use a distribution of the time required for the project as a whole."
   ]
  },
  {
   "cell_type": "code",
   "execution_count": 94,
   "metadata": {},
   "outputs": [],
   "source": [
    "num_sim = 100000 # Number of simulations to run\n",
    "taskA_samples = np.random.triangular(10, 20, 25, num_sim) # generate number of days to complete task\n",
    "taskB_samples = np.random.triangular(2, 20, 30, num_sim)\n",
    "taskC_samples = np.random.triangular(5, 20, 40, num_sim)\n",
    "\n",
    "proj_samples = [] # store the sum of days for all tasks for each simulation\n",
    "for i in range(0, num_sim):\n",
    "    proj_samples.append(taskA_samples[i] + taskB_samples[i] + taskC_samples[i])"
   ]
  },
  {
   "cell_type": "code",
   "execution_count": 95,
   "metadata": {},
   "outputs": [
    {
     "data": {
      "text/plain": [
       "<matplotlib.text.Text at 0x1257cf7b8>"
      ]
     },
     "execution_count": 95,
     "metadata": {},
     "output_type": "execute_result"
    },
    {
     "data": {
      "image/png": "[encoded data removed]",
      "text/plain": [
       "<matplotlib.figure.Figure at 0x1240c31d0>"
      ]
     },
     "metadata": {},
     "output_type": "display_data"
    }
   ],
   "source": [
    "h = sorted(proj_samples)\n",
    "fit = stats.norm.pdf(h, np.mean(h), np.std(h))  #this is a fitting indeed\n",
    "tmp = plt.plot(h,fit,'-')\n",
    "tmp = plt.hist(h,bins = 50, normed=True)      #use this to draw histogram of your data\n",
    "plt.title('Distribution of Project Completion Time')\n",
    "plt.xlabel('Number of days')"
   ]
  },
  {
   "cell_type": "code",
   "execution_count": 104,
   "metadata": {},
   "outputs": [
    {
     "name": "stdout",
     "output_type": "stream",
     "text": [
      "Minimum number of days to project completion 23.0\n"
     ]
    }
   ],
   "source": [
    "print('Minimum number of days to project completion ' + str(np.ceil(np.min(proj_samples))))"
   ]
  },
  {
   "cell_type": "code",
   "execution_count": 106,
   "metadata": {},
   "outputs": [
    {
     "name": "stdout",
     "output_type": "stream",
     "text": [
      "Mean number of days to project completion 57.0\n"
     ]
    }
   ],
   "source": [
    "print('Mean number of days to project completion ' + str(np.floor(np.mean(proj_samples))))"
   ]
  },
  {
   "cell_type": "code",
   "execution_count": 107,
   "metadata": {},
   "outputs": [
    {
     "name": "stdout",
     "output_type": "stream",
     "text": [
      "Maximum number of days to project completion 91.0\n"
     ]
    }
   ],
   "source": [
    "print('Maximum number of days to project completion ' + str(np.ceil(np.max(proj_samples))))"
   ]
  },
  {
   "cell_type": "markdown",
   "metadata": {},
   "source": [
    "#### The Total Project Time Frame is Normally Distributed?!\n",
    "Independently each task was not symmetric though after sampling and summing them to generate a distribution of project time frame, the resultant estimate is nearly normally distributed! With this property we could use the normal distribution property to assign probabilities to the exact completion time frame. That is a topic deserving another post!\n",
    "\n",
    "Note that here the minimum, average expected and maximum number of days required for the project here slightly differs from the simple summing. These differences will be amplified with an increas in number of tasks and skew of each task estimate.\n",
    "\n",
    "Hopefully you find this post useful!"
   ]
  },
  {
   "cell_type": "markdown",
   "metadata": {},
   "source": [
    "#### Useful references:\n",
    "- https://pubsonline.informs.org/doi/pdf/10.1287/ited.1080.0013\n",
    "- https://www.riskamp.com/monte-carlo-simulation-in-project-planning#note-1"
   ]
  },
  {
   "cell_type": "code",
   "execution_count": null,
   "metadata": {},
   "outputs": [],
   "source": []
  }
 ],
 "metadata": {
  "kernelspec": {
   "display_name": "Python [default]",
   "language": "python",
   "name": "python3"
  },
  "language_info": {
   "codemirror_mode": {
    "name": "ipython",
    "version": 3
   },
   "file_extension": ".py",
   "mimetype": "text/x-python",
   "name": "python",
   "nbconvert_exporter": "python",
   "pygments_lexer": "ipython3",
   "version": "3.4.5"
  }
 },
 "nbformat": 4,
 "nbformat_minor": 2
}
